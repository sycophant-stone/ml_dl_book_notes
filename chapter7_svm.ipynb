{
 "cells": [
  {
   "cell_type": "code",
   "execution_count": 1,
   "metadata": {},
   "outputs": [],
   "source": [
    "import matplotlib.pyplot as plt\n",
    "import numpy as np\n",
    "from sklearn import model_selection,linear_model,svm,datasets"
   ]
  },
  {
   "cell_type": "code",
   "execution_count": 2,
   "metadata": {},
   "outputs": [],
   "source": [
    "def load_data_regression():\n",
    "    diabetes=datasets.load_diabetes()\n",
    "    return model_selection.train_test_split(diabetes.data,diabetes.target,test_size=0.25,random_state=0)\n",
    "\n",
    "X_train,X_test,y_train,y_test=load_data_regression()"
   ]
  },
  {
   "cell_type": "code",
   "execution_count": 3,
   "metadata": {},
   "outputs": [],
   "source": [
    "def load_iris_data():\n",
    "    data_iris=datasets.load_iris()\n",
    "    return model_selection.train_test_split(data_iris.data,data_iris.target,test_size=0.25,random_state=0)\n",
    "\n",
    "Xiris_train,Xiris_test,yiris_train,yiris_test=load_iris_data()"
   ]
  },
  {
   "cell_type": "markdown",
   "metadata": {},
   "source": [
    "#### iris是分类问题"
   ]
  },
  {
   "cell_type": "code",
   "execution_count": 7,
   "metadata": {},
   "outputs": [
    {
     "name": "stdout",
     "output_type": "stream",
     "text": [
      "Coeff:[[ 0.21779091  0.3984194  -0.83300628 -0.41992427]\n",
      " [ 0.02758709 -0.80709191  0.39158522 -0.90822004]\n",
      " [-1.08576788 -0.78197135  1.61127386  1.50161293]], intercept:[ 0.10834838  1.50900669 -1.25404509]\n",
      "Score:0.92\n"
     ]
    }
   ],
   "source": [
    "def test_LinearSVC(*data):\n",
    "    X_train,X_test,y_train,y_test=data\n",
    "    cls=svm.LinearSVC()\n",
    "    cls.fit(X_train,y_train)\n",
    "    print(\"Coeff:%s, intercept:%s\" %(cls.coef_,cls.intercept_))\n",
    "    print(\"Score:%.2f\" % cls.score(X_test,y_test))\n",
    "    \n",
    "test_LinearSVC(Xiris_train,Xiris_test,yiris_train,yiris_test)"
   ]
  },
  {
   "cell_type": "code",
   "execution_count": 11,
   "metadata": {},
   "outputs": [
    {
     "name": "stdout",
     "output_type": "stream",
     "text": [
      "Loss:hinge\n",
      "Coeff:[[ 0.36658297  0.32433499 -1.07948639 -0.56206601]\n",
      " [ 0.26735859 -0.96478262  0.18978881 -0.73870101]\n",
      " [-1.27982543 -1.04958146  1.90765366  1.97715006]], intercept:[ 0.17632114  0.67246442 -1.50035202]\n",
      "Score:0.84\n",
      "Loss:squared_hinge\n",
      "Coeff:[[ 0.21778842  0.39841934 -0.83301231 -0.41993053]\n",
      " [ 0.02738557 -0.80688023  0.39172687 -0.90809324]\n",
      " [-1.08565221 -0.78194219  1.61139704  1.50161964]], intercept:[ 0.10834652  1.50932958 -1.25397135]\n",
      "Score:0.92\n"
     ]
    }
   ],
   "source": [
    "def test_LinearSVC_loss(*data):\n",
    "    X_train,X_test,y_train,y_test=data\n",
    "    losses=['hinge','squared_hinge']\n",
    "    for loss in losses:\n",
    "        cls=svm.LinearSVC(loss=loss)\n",
    "        cls.fit(X_train,y_train)\n",
    "        print(\"Loss:%s\" %loss)\n",
    "        print(\"Coeff:%s, intercept:%s\" %(cls.coef_,cls.intercept_))\n",
    "        print(\"Score:%.2f\" % cls.score(X_test,y_test))\n",
    "test_LinearSVC_loss(Xiris_train,Xiris_test,yiris_train,yiris_test)  "
   ]
  },
  {
   "cell_type": "code",
   "execution_count": 12,
   "metadata": {},
   "outputs": [
    {
     "name": "stdout",
     "output_type": "stream",
     "text": [
      "Penalty:l1\n",
      "Coeff:[[ 0.16169758  0.52336447 -0.93085509  0.        ]\n",
      " [ 0.         -0.84981714  0.36767695 -0.83702667]\n",
      " [-0.82015186 -0.76838314  1.40125152  1.67879722]], intercept:[ 0.          1.80595171 -2.24210498]\n",
      "Score:0.92\n",
      "Penalty:l2\n",
      "Coeff:[[ 0.21913494  0.39632008 -0.83567138 -0.41726075]\n",
      " [ 0.02771728 -0.8078901   0.39130354 -0.90768387]\n",
      " [-1.0859648  -0.78192929  1.61142085  1.50151589]], intercept:[ 0.11179235  1.51084483 -1.25404219]\n",
      "Score:0.92\n"
     ]
    }
   ],
   "source": [
    "def test_LinearSVC_reg(*data):\n",
    "    X_train,X_test,y_train,y_test=data\n",
    "    regs=['l1','l2']\n",
    "    for reg in regs:\n",
    "        cls=svm.LinearSVC(penalty=reg,dual=False)\n",
    "        cls.fit(X_train,y_train)\n",
    "        print(\"Penalty:%s\" %reg)\n",
    "        print(\"Coeff:%s, intercept:%s\" %(cls.coef_,cls.intercept_))\n",
    "        print(\"Score:%.2f\" % cls.score(X_test,y_test))\n",
    "test_LinearSVC_reg(Xiris_train,Xiris_test,yiris_train,yiris_test)  "
   ]
  },
  {
   "cell_type": "code",
   "execution_count": 16,
   "metadata": {},
   "outputs": [
    {
     "data": {
      "image/png": "[encoded data removed]",
      "text/plain": [
       "<matplotlib.figure.Figure at 0x1ece3a92780>"
      ]
     },
     "metadata": {},
     "output_type": "display_data"
    }
   ],
   "source": [
    "def test_LinearSVC_C(*data):\n",
    "    X_train,X_test,y_train,y_test=data\n",
    "    Cs=np.logspace(-2,1)\n",
    "    train_scores=[]\n",
    "    test_scores=[]\n",
    "    for c in Cs:\n",
    "        cls=svm.LinearSVC(C=c)\n",
    "        cls.fit(X_train,y_train)\n",
    "        train_scores.append(cls.score(X_train,y_train))\n",
    "        test_scores.append(cls.score(X_test,y_test))\n",
    "    fig=plt.figure()\n",
    "    ax=fig.add_subplot(1,1,1)\n",
    "    ax.plot(Cs,train_scores,label=\"Train score\")\n",
    "    ax.plot(Cs,test_scores,label=\"Test score\")\n",
    "    ax.set_xscale('log')\n",
    "    ax.set_xlabel(\"C value\")\n",
    "    ax.set_ylabel(r\"scores\")\n",
    "    ax.set_title(\"SVC with different Cs\")\n",
    "    ax.legend(loc=\"best\")\n",
    "    plt.show()\n",
    "    \n",
    "test_LinearSVC_C(Xiris_train,Xiris_test,yiris_train,yiris_test)  "
   ]
  },
  {
   "cell_type": "markdown",
   "metadata": {},
   "source": [
    "> 惩罚项太小的时候,训练出的结果不是很好"
   ]
  },
  {
   "cell_type": "code",
   "execution_count": null,
   "metadata": {},
   "outputs": [],
   "source": []
  }
 ],
 "metadata": {
  "kernelspec": {
   "display_name": "Python 3",
   "language": "python",
   "name": "python3"
  },
  "language_info": {
   "codemirror_mode": {
    "name": "ipython",
    "version": 3
   },
   "file_extension": ".py",
   "mimetype": "text/x-python",
   "name": "python",
   "nbconvert_exporter": "python",
   "pygments_lexer": "ipython3",
   "version": "3.6.2"
  }
 },
 "nbformat": 4,
 "nbformat_minor": 2
}

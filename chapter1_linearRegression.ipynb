{
 "cells": [
  {
   "cell_type": "markdown",
   "metadata": {},
   "source": [
    "## 线性回归\n",
    "\n",
    "### 基本python包"
   ]
  },
  {
   "cell_type": "code",
   "execution_count": 2,
   "metadata": {},
   "outputs": [],
   "source": [
    "import matplotlib.pyplot as plt\n",
    "import numpy as np\n",
    "from sklearn import datasets, linear_model, discriminant_analysis, cross_validation,model_selection\n"
   ]
  },
  {
   "cell_type": "code",
   "execution_count": 3,
   "metadata": {},
   "outputs": [],
   "source": [
    "def load_data():\n",
    "    diabtets=datasets.load_diabetes()\n",
    "    return model_selection.train_test_split(diabtets.data, diabtets.target, test_size=0.25,random_state=0)"
   ]
  },
  {
   "cell_type": "code",
   "execution_count": 7,
   "metadata": {},
   "outputs": [],
   "source": [
    "def test_linearRegression(*data):\n",
    "    X_train,X_test,y_train,y_test =data\n",
    "    regr=linear_model.LinearRegression()\n",
    "    regr.fit(X_train,y_train)\n",
    "    print('Coefficient:%s,intercept %.2f'%(regr.coef_,regr.intercept_))\n",
    "    print(\"REsidual sum of squares: %.2f\"% np.mean((regr.predict(X_test)-y_test) ** 2))\n",
    "    print('Score: %2.f' % regr.score(X_test,y_test))"
   ]
  },
  {
   "cell_type": "code",
   "execution_count": 8,
   "metadata": {},
   "outputs": [
    {
     "name": "stdout",
     "output_type": "stream",
     "text": [
      "Coefficient:[ -43.26774487 -208.67053951  593.39797213  302.89814903 -560.27689824\n",
      "  261.47657106   -8.83343952  135.93715156  703.22658427   28.34844354],intercept 153.07\n",
      "REsidual sum of squares: 3180.20\n",
      "Score:  0\n"
     ]
    }
   ],
   "source": [
    "X_train,X_test,y_train,y_test = load_data()\n",
    "test_linearRegression(X_train,X_test,y_train,y_test)"
   ]
  },
  {
   "cell_type": "code",
   "execution_count": null,
   "metadata": {},
   "outputs": [],
   "source": []
  }
 ],
 "metadata": {
  "kernelspec": {
   "display_name": "Python 3",
   "language": "python",
   "name": "python3"
  },
  "language_info": {
   "codemirror_mode": {
    "name": "ipython",
    "version": 3
   },
   "file_extension": ".py",
   "mimetype": "text/x-python",
   "name": "python",
   "nbconvert_exporter": "python",
   "pygments_lexer": "ipython3",
   "version": "3.6.2"
  }
 },
 "nbformat": 4,
 "nbformat_minor": 2
}

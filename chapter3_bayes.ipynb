{
 "cells": [
  {
   "cell_type": "markdown",
   "metadata": {},
   "source": [
    "### bayes\n",
    "\n",
    "skl有多种bayes分类器,区别是假设不同的条件概率分布.\n",
    "\n",
    "1.GaussianNB分布\n",
    "\n",
    "2.MultinomialNB分布\n",
    "\n",
    "3.BernoulliNB分布\n"
   ]
  },
  {
   "cell_type": "code",
   "execution_count": 1,
   "metadata": {},
   "outputs": [],
   "source": [
    "from sklearn import datasets,cross_validation,model_selection,naive_bayes\n",
    "import numpy as np\n",
    "import matplotlib.pyplot as plt"
   ]
  },
  {
   "cell_type": "code",
   "execution_count": 4,
   "metadata": {},
   "outputs": [
    {
     "name": "stdout",
     "output_type": "stream",
     "text": [
      "vector from image0: [  0.   0.   5.  13.   9.   1.   0.   0.   0.   0.  13.  15.  10.  15.   5.\n",
      "   0.   0.   3.  15.   2.   0.  11.   8.   0.   0.   4.  12.   0.   0.   8.\n",
      "   8.   0.   0.   5.   8.   0.   0.   9.   8.   0.   0.   4.  11.   0.   1.\n",
      "  12.   7.   0.   0.   2.  14.   5.  10.  12.   0.   0.   0.   0.   6.  13.\n",
      "  10.   0.   0.   0.]\n"
     ]
    },
    {
     "data": {
      "image/png": "[encoded data removed]",
      "text/plain": [
       "<matplotlib.figure.Figure at 0x290e32fdda0>"
      ]
     },
     "metadata": {},
     "output_type": "display_data"
    }
   ],
   "source": [
    "def show_digits():\n",
    "    digits=datasets.load_digits()\n",
    "    fig=plt.figure()\n",
    "    print(\"vector from image0:\",digits.data[0])\n",
    "    for i in range(25):\n",
    "        ax=fig.add_subplot(5,5,i+1)\n",
    "        ax.imshow(digits.images[i],cmap=plt.cm.gray_r,interpolation='nearest')\n",
    "    plt.show()\n",
    "    \n",
    "show_digits()"
   ]
  },
  {
   "cell_type": "code",
   "execution_count": 5,
   "metadata": {},
   "outputs": [],
   "source": [
    "def load_digits():\n",
    "    digits=datasets.load_digits()\n",
    "    return model_selection.train_test_split(digits.data,digits.target,test_size=0.25,random_state=0)\n",
    "\n",
    "X_train,X_test,y_train,y_test=load_digits()"
   ]
  },
  {
   "cell_type": "markdown",
   "metadata": {},
   "source": [
    "#### GaussianNB\n",
    "\n",
    "第i个样本的第j个特征\n",
    "\n",
    "$$P(X^{(j)}|y=c_k)=\\frac{1}{\\sqrt{2\\pi \\sigma _k^2}}*exp(-\\frac{(X^{(j)}-\\mu _k)^2}{2\\sigma _k^2})$$"
   ]
  },
  {
   "cell_type": "code",
   "execution_count": 6,
   "metadata": {},
   "outputs": [
    {
     "name": "stdout",
     "output_type": "stream",
     "text": [
      "Train score:0.86\n",
      "Test  score:0.83\n"
     ]
    }
   ],
   "source": [
    "def test_GaussianNNB(*data):\n",
    "    X_train,X_test,y_train,y_test=data\n",
    "    cls=naive_bayes.GaussianNB()\n",
    "    cls.fit(X_train,y_train)\n",
    "    print(\"Train score:%.2f\" %cls.score(X_train,y_train))\n",
    "    print(\"Test  score:%.2f\" %cls.score(X_test,y_test))\n",
    "    \n",
    "test_GaussianNNB(X_train,X_test,y_train,y_test)"
   ]
  },
  {
   "cell_type": "markdown",
   "metadata": {},
   "source": [
    "#### MultinomialNB\n",
    "\n",
    "第j个特征,该特征共有Skj个可取的值.\n",
    "$$P(X^{(j)}=a_{s_j}|y=c_k)=\\frac{N_{kj}+\\alpha }{N_k+\\alpha n}$$\n"
   ]
  },
  {
   "cell_type": "code",
   "execution_count": 7,
   "metadata": {},
   "outputs": [
    {
     "name": "stdout",
     "output_type": "stream",
     "text": [
      "Train score:0.91\n",
      "Test  score:0.91\n"
     ]
    }
   ],
   "source": [
    "def test_MultinomialNB(*data):\n",
    "    X_train,X_test,y_train,y_test=data\n",
    "    cls=naive_bayes.MultinomialNB()\n",
    "    cls.fit(X_train,y_train)\n",
    "    print(\"Train score:%.2f\" %cls.score(X_train,y_train))\n",
    "    print(\"Test  score:%.2f\" %cls.score(X_test,y_test))\n",
    "\n",
    "test_MultinomialNB(X_train,X_test,y_train,y_test)"
   ]
  },
  {
   "cell_type": "code",
   "execution_count": 8,
   "metadata": {},
   "outputs": [
    {
     "data": {
      "image/png": "[encoded data removed]",
      "text/plain": [
       "<matplotlib.figure.Figure at 0x290e6963320>"
      ]
     },
     "metadata": {},
     "output_type": "display_data"
    }
   ],
   "source": [
    "def test_MultinomialNB_alpha(*data):\n",
    "    X_train,X_test,y_train,y_test=data\n",
    "    alphas=np.logspace(-2,5,num=200)\n",
    "    train_scores=[]\n",
    "    test_scores=[]\n",
    "    for alpha in alphas:\n",
    "        cls=naive_bayes.MultinomialNB(alpha=alpha)\n",
    "        cls.fit(X_train,y_train)\n",
    "        train_scores.append(cls.score(X_train,y_train))\n",
    "        test_scores.append(cls.score(X_test,y_test))\n",
    "\n",
    "    fig=plt.figure()\n",
    "    ax=fig.add_subplot(1,1,1)\n",
    "    ax.plot(alphas,train_scores,label=\"Training Scores\")\n",
    "    ax.plot(alphas,test_scores,label=\"Testing Scores\")\n",
    "    ax.set_xlabel(r\"$\\alpha$\")\n",
    "    ax.set_ylabel(\"score\")\n",
    "    ax.set_ylim(0,1.0)\n",
    "    ax.set_title(\"mutinomialNB\")\n",
    "    ax.set_xscale('log')\n",
    "    plt.show()\n",
    "    \n",
    "test_MultinomialNB_alpha(X_train,X_test,y_train,y_test)"
   ]
  },
  {
   "cell_type": "markdown",
   "metadata": {},
   "source": [
    "\n",
    "当alpha趋于无穷大时,该概率趋近于定值,不受特征差异影响.\n",
    "$$\\alpha \\rightarrow \\infty$$ \n",
    "$$P(X^{(j)}=a_{s_j}|y=c_k)\\rightarrow \\frac{1}{n}$$"
   ]
  },
  {
   "cell_type": "markdown",
   "metadata": {},
   "source": [
    "#### bernoulliNB\n",
    "\n",
    "$$P(X^{(j)}|y=c_k)=pX^{(j)}+(1-p)(1-X^{(j)})$$"
   ]
  },
  {
   "cell_type": "code",
   "execution_count": 9,
   "metadata": {},
   "outputs": [
    {
     "name": "stdout",
     "output_type": "stream",
     "text": [
      "Train score:0.87\n",
      "Test  score:0.85\n"
     ]
    }
   ],
   "source": [
    "def test_BernoulliNB(*data):\n",
    "    X_train,X_test,y_train,y_test=data\n",
    "    cls=naive_bayes.BernoulliNB()\n",
    "    cls.fit(X_train,y_train)\n",
    "    print(\"Train score:%.2f\" %cls.score(X_train,y_train))\n",
    "    print(\"Test  score:%.2f\" %cls.score(X_test,y_test))\n",
    "\n",
    "test_BernoulliNB(X_train,X_test,y_train,y_test)"
   ]
  },
  {
   "cell_type": "code",
   "execution_count": 10,
   "metadata": {},
   "outputs": [
    {
     "data": {
      "image/png": "[encoded data removed]",
      "text/plain": [
       "<matplotlib.figure.Figure at 0x290e6c31748>"
      ]
     },
     "metadata": {},
     "output_type": "display_data"
    }
   ],
   "source": [
    "def test_BernoulliNB_alpha(*data):\n",
    "    X_train,X_test,y_train,y_test=data\n",
    "    alphas=np.logspace(-2,5,num=200)\n",
    "    train_scores=[]\n",
    "    test_scores=[]\n",
    "    for alpha in alphas:\n",
    "        cls=naive_bayes.BernoulliNB(alpha=alpha)\n",
    "        cls.fit(X_train,y_train)\n",
    "        train_scores.append(cls.score(X_train,y_train))\n",
    "        test_scores.append(cls.score(X_test,y_test))\n",
    "\n",
    "    fig=plt.figure()\n",
    "    ax=fig.add_subplot(1,1,1)\n",
    "    ax.plot(alphas,train_scores,label=\"Training Scores\")\n",
    "    ax.plot(alphas,test_scores,label=\"Testing Scores\")\n",
    "    ax.set_xlabel(r\"$\\alpha$\")\n",
    "    ax.set_ylabel(\"score\")\n",
    "    ax.set_ylim(0,1.0)\n",
    "    ax.set_title(\"BernoulliNB\")\n",
    "    ax.set_xscale('log')\n",
    "    plt.show()\n",
    "    \n",
    "test_BernoulliNB_alpha(X_train,X_test,y_train,y_test)"
   ]
  },
  {
   "cell_type": "code",
   "execution_count": 13,
   "metadata": {},
   "outputs": [
    {
     "data": {
      "image/png": "[encoded data removed]",
      "text/plain": [
       "<matplotlib.figure.Figure at 0x290e2eb79e8>"
      ]
     },
     "metadata": {},
     "output_type": "display_data"
    }
   ],
   "source": [
    "def test_BernoulliNB_binarize(*data):\n",
    "    X_train,X_test,y_train,y_test=data\n",
    "    min_x=min(np.min(X_train.ravel()),np.min(X_test.ravel()))-0.1 # 把X_train的值排成一行,取出最小值.\n",
    "    max_x=max(np.max(X_train.ravel()),np.max(X_test.ravel()))+0.1\n",
    "    binarizes=np.linspace(min_x,max_x,endpoint=True,num=100)\n",
    "    train_scores=[]\n",
    "    test_scores=[]\n",
    "    for binarize in binarizes:\n",
    "        cls=naive_bayes.BernoulliNB(binarize=binarize)\n",
    "        cls.fit(X_train,y_train)\n",
    "        train_scores.append(cls.score(X_train,y_train))\n",
    "        test_scores.append(cls.score(X_test,y_test))\n",
    "    \n",
    "    fig=plt.figure()\n",
    "    ax=fig.add_subplot(1,1,1)\n",
    "    ax.plot(binarizes,train_scores,label=\"Training Scores\")\n",
    "    ax.plot(binarizes,test_scores,label=\"Testing Scores\")\n",
    "    ax.set_xlabel(\"binarizes\")\n",
    "    ax.set_ylabel(\"score\")\n",
    "    ax.set_ylim(0,1.0)\n",
    "    ax.set_xlim(min_x-1,max_x+1)\n",
    "    ax.set_title(\"BernoulliNB\")\n",
    "    ax.legend(loc=\"best\")\n",
    "    plt.show()\n",
    "    \n",
    "test_BernoulliNB_binarize(X_train,X_test,y_train,y_test)"
   ]
  },
  {
   "cell_type": "markdown",
   "metadata": {},
   "source": [
    "看图说话:  \n",
    "\n",
    "1.binarize最小可以取所有特征值最小值减0.1,当binarize取最左点时,它认为所有的特征值为1.\n",
    "\n",
    "2.binarize最大可以去所有特征值最大值加0.1,当binarize取最右点时,它认为所有的特征值为0.\n",
    "\n",
    "这两种情况都是会导致推测断崖式错误.\n",
    "\n",
    "\n",
    "\n",
    "> 经验: binarize可以取(所有特征值的最小值+所有特征值的最大值)/2\n"
   ]
  },
  {
   "cell_type": "code",
   "execution_count": null,
   "metadata": {},
   "outputs": [],
   "source": []
  }
 ],
 "metadata": {
  "kernelspec": {
   "display_name": "Python 3",
   "language": "python",
   "name": "python3"
  },
  "language_info": {
   "codemirror_mode": {
    "name": "ipython",
    "version": 3
   },
   "file_extension": ".py",
   "mimetype": "text/x-python",
   "name": "python",
   "nbconvert_exporter": "python",
   "pygments_lexer": "ipython3",
   "version": "3.6.2"
  }
 },
 "nbformat": 4,
 "nbformat_minor": 2
}
